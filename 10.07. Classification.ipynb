{
 "cells": [
  {
   "cell_type": "markdown",
   "id": "d81e5963",
   "metadata": {},
   "source": [
    "# Задача классификации. Real / Fake Job Posting Prediction\n",
    "\n",
    "Датасет - https://www.kaggle.com/datasets/shivamb/real-or-fake-fake-jobposting-prediction"
   ]
  },
  {
   "cell_type": "code",
   "execution_count": null,
   "id": "4951af1f",
   "metadata": {},
   "outputs": [],
   "source": []
  }
 ],
 "metadata": {
  "kernelspec": {
   "display_name": "Python 3 (ipykernel)",
   "language": "python",
   "name": "python3"
  },
  "language_info": {
   "codemirror_mode": {
    "name": "ipython",
    "version": 3
   },
   "file_extension": ".py",
   "mimetype": "text/x-python",
   "name": "python",
   "nbconvert_exporter": "python",
   "pygments_lexer": "ipython3",
   "version": "3.9.12"
  }
 },
 "nbformat": 4,
 "nbformat_minor": 5
}
